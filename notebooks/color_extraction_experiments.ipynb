{
 "cells": [
  {
   "cell_type": "code",
   "execution_count": 1,
   "metadata": {},
   "outputs": [],
   "source": [
    "%matplotlib inline\n",
    "import matplotlib.pyplot as plt\n",
    "import pandas as pd\n",
    "import numpy as np\n",
    "\n",
    "import torch\n",
    "from torch.nn.functional import softmax, interpolate\n",
    "from PIL import Image\n",
    "from torchvision import models, transforms\n",
    "from torchvision.transforms.functional import resize, to_pil_image\n",
    "from torchinfo import summary\n",
    "\n",
    "from torchcam.methods import LayerCAM\n",
    "from torchcam.utils import overlay_mask\n",
    "\n",
    "from sklearn.cluster import KMeans\n",
    "from sklearn.model_selection import train_test_split\n",
    "from sklearn.neighbors import KNeighborsClassifier\n",
    "from sklearn.metrics import accuracy_score\n",
    "\n",
    "from skimage import color\n",
    "\n",
    "import os"
   ]
  },
  {
   "cell_type": "code",
   "execution_count": 2,
   "metadata": {},
   "outputs": [
    {
     "data": {
      "text/plain": [
       "<All keys matched successfully>"
      ]
     },
     "execution_count": 2,
     "metadata": {},
     "output_type": "execute_result"
    }
   ],
   "source": [
    "# model import\n",
    "device = torch.device(\"cuda:0\" if torch.cuda.is_available() else \"cpu\")\n",
    "\n",
    "mc_model = models.resnet50(pretrained=True).to(device)\n",
    "    \n",
    "mc_model.fc = torch.nn.Sequential(\n",
    "               torch.nn.Linear(2048, 128),\n",
    "               torch.nn.ReLU(),\n",
    "               torch.nn.Linear(128, 7)).to(device)\n",
    "\n",
    "mc_model.load_state_dict(torch.load(\"../models/mc_model.pth\", map_location=torch.device('cpu')))"
   ]
  },
  {
   "cell_type": "code",
   "execution_count": 3,
   "metadata": {},
   "outputs": [],
   "source": [
    "mc_model.eval()\n",
    "\n",
    "tsfm = transforms.Compose([\n",
    "    transforms.Resize(size=(224, 224)),\n",
    "    transforms.CenterCrop(112),\n",
    "    transforms.ToTensor() \n",
    "])"
   ]
  },
  {
   "cell_type": "code",
   "execution_count": 4,
   "metadata": {},
   "outputs": [
    {
     "name": "stderr",
     "output_type": "stream",
     "text": [
      "WARNING:root:no value was provided for `target_layer`, thus set to 'layer4'.\n"
     ]
    }
   ],
   "source": [
    "# class activation map extractor\n",
    "cam_extractor = LayerCAM(mc_model)"
   ]
  },
  {
   "cell_type": "code",
   "execution_count": 2,
   "metadata": {},
   "outputs": [
    {
     "data": {
      "text/html": [
       "<div>\n",
       "<style scoped>\n",
       "    .dataframe tbody tr th:only-of-type {\n",
       "        vertical-align: middle;\n",
       "    }\n",
       "\n",
       "    .dataframe tbody tr th {\n",
       "        vertical-align: top;\n",
       "    }\n",
       "\n",
       "    .dataframe thead th {\n",
       "        text-align: right;\n",
       "    }\n",
       "</style>\n",
       "<table border=\"1\" class=\"dataframe\">\n",
       "  <thead>\n",
       "    <tr style=\"text-align: right;\">\n",
       "      <th></th>\n",
       "      <th>id</th>\n",
       "      <th>masterCategory</th>\n",
       "      <th>subCategory</th>\n",
       "      <th>articleType</th>\n",
       "      <th>baseColour</th>\n",
       "    </tr>\n",
       "  </thead>\n",
       "  <tbody>\n",
       "    <tr>\n",
       "      <th>0</th>\n",
       "      <td>15970</td>\n",
       "      <td>Apparel</td>\n",
       "      <td>Topwear</td>\n",
       "      <td>Shirts</td>\n",
       "      <td>Navy Blue</td>\n",
       "    </tr>\n",
       "    <tr>\n",
       "      <th>1</th>\n",
       "      <td>39386</td>\n",
       "      <td>Apparel</td>\n",
       "      <td>Bottomwear</td>\n",
       "      <td>Jeans</td>\n",
       "      <td>Blue</td>\n",
       "    </tr>\n",
       "    <tr>\n",
       "      <th>2</th>\n",
       "      <td>59263</td>\n",
       "      <td>Accessories</td>\n",
       "      <td>Watches</td>\n",
       "      <td>Watches</td>\n",
       "      <td>Silver</td>\n",
       "    </tr>\n",
       "    <tr>\n",
       "      <th>3</th>\n",
       "      <td>21379</td>\n",
       "      <td>Apparel</td>\n",
       "      <td>Bottomwear</td>\n",
       "      <td>Track Pants</td>\n",
       "      <td>Black</td>\n",
       "    </tr>\n",
       "    <tr>\n",
       "      <th>4</th>\n",
       "      <td>53759</td>\n",
       "      <td>Apparel</td>\n",
       "      <td>Topwear</td>\n",
       "      <td>Tshirts</td>\n",
       "      <td>Grey</td>\n",
       "    </tr>\n",
       "    <tr>\n",
       "      <th>...</th>\n",
       "      <td>...</td>\n",
       "      <td>...</td>\n",
       "      <td>...</td>\n",
       "      <td>...</td>\n",
       "      <td>...</td>\n",
       "    </tr>\n",
       "    <tr>\n",
       "      <th>44414</th>\n",
       "      <td>17036</td>\n",
       "      <td>Footwear</td>\n",
       "      <td>Shoes</td>\n",
       "      <td>Casual Shoes</td>\n",
       "      <td>White</td>\n",
       "    </tr>\n",
       "    <tr>\n",
       "      <th>44415</th>\n",
       "      <td>6461</td>\n",
       "      <td>Footwear</td>\n",
       "      <td>Flip Flops</td>\n",
       "      <td>Flip Flops</td>\n",
       "      <td>Red</td>\n",
       "    </tr>\n",
       "    <tr>\n",
       "      <th>44416</th>\n",
       "      <td>18842</td>\n",
       "      <td>Apparel</td>\n",
       "      <td>Topwear</td>\n",
       "      <td>Tshirts</td>\n",
       "      <td>Blue</td>\n",
       "    </tr>\n",
       "    <tr>\n",
       "      <th>44417</th>\n",
       "      <td>46694</td>\n",
       "      <td>Personal Care</td>\n",
       "      <td>Fragrance</td>\n",
       "      <td>Perfume and Body Mist</td>\n",
       "      <td>Blue</td>\n",
       "    </tr>\n",
       "    <tr>\n",
       "      <th>44418</th>\n",
       "      <td>51623</td>\n",
       "      <td>Accessories</td>\n",
       "      <td>Watches</td>\n",
       "      <td>Watches</td>\n",
       "      <td>Pink</td>\n",
       "    </tr>\n",
       "  </tbody>\n",
       "</table>\n",
       "<p>44404 rows × 5 columns</p>\n",
       "</div>"
      ],
      "text/plain": [
       "          id masterCategory subCategory            articleType baseColour\n",
       "0      15970        Apparel     Topwear                 Shirts  Navy Blue\n",
       "1      39386        Apparel  Bottomwear                  Jeans       Blue\n",
       "2      59263    Accessories     Watches                Watches     Silver\n",
       "3      21379        Apparel  Bottomwear            Track Pants      Black\n",
       "4      53759        Apparel     Topwear                Tshirts       Grey\n",
       "...      ...            ...         ...                    ...        ...\n",
       "44414  17036       Footwear       Shoes           Casual Shoes      White\n",
       "44415   6461       Footwear  Flip Flops             Flip Flops        Red\n",
       "44416  18842        Apparel     Topwear                Tshirts       Blue\n",
       "44417  46694  Personal Care   Fragrance  Perfume and Body Mist       Blue\n",
       "44418  51623    Accessories     Watches                Watches       Pink\n",
       "\n",
       "[44404 rows x 5 columns]"
      ]
     },
     "execution_count": 2,
     "metadata": {},
     "output_type": "execute_result"
    }
   ],
   "source": [
    "styles = pd.read_csv(\"../data/styles_subset.csv\")\n",
    "styles = styles.dropna()\n",
    "styles"
   ]
  },
  {
   "cell_type": "code",
   "execution_count": 3,
   "metadata": {},
   "outputs": [],
   "source": [
    "# 10% data for testing\n",
    "train, test = train_test_split(styles, test_size=0.1, stratify=styles[\"baseColour\"], random_state=42)"
   ]
  },
  {
   "cell_type": "markdown",
   "metadata": {},
   "source": [
    "# 1. Using CIE for the KNNClassifier"
   ]
  },
  {
   "cell_type": "code",
   "execution_count": 4,
   "metadata": {},
   "outputs": [],
   "source": [
    "def convert_rgb2lab(rgb):\n",
    "    \"\"\"\n",
    "    convert a single rgb value to corresponding lab value\n",
    "    \"\"\"\n",
    "    lab = color.rgb2lab(np.array([[rgb]])/255)\n",
    "    return lab[0, 0]"
   ]
  },
  {
   "cell_type": "code",
   "execution_count": 5,
   "metadata": {},
   "outputs": [
    {
     "data": {
      "text/html": [
       "<div>\n",
       "<style scoped>\n",
       "    .dataframe tbody tr th:only-of-type {\n",
       "        vertical-align: middle;\n",
       "    }\n",
       "\n",
       "    .dataframe tbody tr th {\n",
       "        vertical-align: top;\n",
       "    }\n",
       "\n",
       "    .dataframe thead th {\n",
       "        text-align: right;\n",
       "    }\n",
       "</style>\n",
       "<table border=\"1\" class=\"dataframe\">\n",
       "  <thead>\n",
       "    <tr style=\"text-align: right;\">\n",
       "      <th></th>\n",
       "      <th>l1</th>\n",
       "      <th>l2</th>\n",
       "      <th>l3</th>\n",
       "      <th>target_color</th>\n",
       "    </tr>\n",
       "  </thead>\n",
       "  <tbody>\n",
       "    <tr>\n",
       "      <th>0</th>\n",
       "      <td>0.000000</td>\n",
       "      <td>0.000000</td>\n",
       "      <td>0.000000</td>\n",
       "      <td>Black</td>\n",
       "    </tr>\n",
       "    <tr>\n",
       "      <th>1</th>\n",
       "      <td>100.000000</td>\n",
       "      <td>-0.002455</td>\n",
       "      <td>0.004653</td>\n",
       "      <td>White</td>\n",
       "    </tr>\n",
       "    <tr>\n",
       "      <th>2</th>\n",
       "      <td>48.373518</td>\n",
       "      <td>7.713933</td>\n",
       "      <td>-53.080052</td>\n",
       "      <td>Blue</td>\n",
       "    </tr>\n",
       "    <tr>\n",
       "      <th>3</th>\n",
       "      <td>29.866009</td>\n",
       "      <td>10.324204</td>\n",
       "      <td>12.794989</td>\n",
       "      <td>Brown</td>\n",
       "    </tr>\n",
       "    <tr>\n",
       "      <th>4</th>\n",
       "      <td>35.724149</td>\n",
       "      <td>-0.001095</td>\n",
       "      <td>0.002075</td>\n",
       "      <td>Grey</td>\n",
       "    </tr>\n",
       "    <tr>\n",
       "      <th>5</th>\n",
       "      <td>53.240588</td>\n",
       "      <td>80.092308</td>\n",
       "      <td>67.202751</td>\n",
       "      <td>Red</td>\n",
       "    </tr>\n",
       "    <tr>\n",
       "      <th>6</th>\n",
       "      <td>87.735099</td>\n",
       "      <td>-86.183030</td>\n",
       "      <td>83.179703</td>\n",
       "      <td>Green</td>\n",
       "    </tr>\n",
       "    <tr>\n",
       "      <th>7</th>\n",
       "      <td>69.590784</td>\n",
       "      <td>51.670535</td>\n",
       "      <td>0.505159</td>\n",
       "      <td>Pink</td>\n",
       "    </tr>\n",
       "    <tr>\n",
       "      <th>8</th>\n",
       "      <td>50.104911</td>\n",
       "      <td>65.496620</td>\n",
       "      <td>-41.474739</td>\n",
       "      <td>Purple</td>\n",
       "    </tr>\n",
       "    <tr>\n",
       "      <th>9</th>\n",
       "      <td>97.139507</td>\n",
       "      <td>-21.554681</td>\n",
       "      <td>94.478122</td>\n",
       "      <td>Yellow</td>\n",
       "    </tr>\n",
       "    <tr>\n",
       "      <th>10</th>\n",
       "      <td>41.518309</td>\n",
       "      <td>54.702751</td>\n",
       "      <td>2.470456</td>\n",
       "      <td>Maroon</td>\n",
       "    </tr>\n",
       "    <tr>\n",
       "      <th>11</th>\n",
       "      <td>66.858542</td>\n",
       "      <td>43.316851</td>\n",
       "      <td>73.901189</td>\n",
       "      <td>Orange</td>\n",
       "    </tr>\n",
       "  </tbody>\n",
       "</table>\n",
       "</div>"
      ],
      "text/plain": [
       "            l1         l2         l3 target_color\n",
       "0     0.000000   0.000000   0.000000        Black\n",
       "1   100.000000  -0.002455   0.004653        White\n",
       "2    48.373518   7.713933 -53.080052         Blue\n",
       "3    29.866009  10.324204  12.794989        Brown\n",
       "4    35.724149  -0.001095   0.002075         Grey\n",
       "5    53.240588  80.092308  67.202751          Red\n",
       "6    87.735099 -86.183030  83.179703        Green\n",
       "7    69.590784  51.670535   0.505159         Pink\n",
       "8    50.104911  65.496620 -41.474739       Purple\n",
       "9    97.139507 -21.554681  94.478122       Yellow\n",
       "10   41.518309  54.702751   2.470456       Maroon\n",
       "11   66.858542  43.316851  73.901189       Orange"
      ]
     },
     "execution_count": 5,
     "metadata": {},
     "output_type": "execute_result"
    }
   ],
   "source": [
    "# manual mappings\n",
    "lab_df = pd.read_csv(\"../data/lab_color_map.csv\")\n",
    "lab_df"
   ]
  },
  {
   "cell_type": "code",
   "execution_count": 6,
   "metadata": {},
   "outputs": [
    {
     "data": {
      "text/plain": [
       "KNeighborsClassifier(algorithm='auto', leaf_size=30,\n",
       "                     metric=<function deltaE_cie76 at 0x7f5b6d7564d0>,\n",
       "                     metric_params=None, n_jobs=None, n_neighbors=1, p=2,\n",
       "                     weights='uniform')"
      ]
     },
     "execution_count": 6,
     "metadata": {},
     "output_type": "execute_result"
    }
   ],
   "source": [
    "X = lab_df.drop([\"target_color\"], axis=1)\n",
    "y = lab_df[\"target_color\"]\n",
    "\n",
    "# KNN classifier with custom metric\n",
    "knn_classifier = KNeighborsClassifier(n_neighbors=1,\n",
    "                                    metric=color.deltaE_cie76)\n",
    "\n",
    "knn_classifier.fit(X, y)"
   ]
  },
  {
   "cell_type": "code",
   "execution_count": 24,
   "metadata": {},
   "outputs": [],
   "source": [
    "def find_color(img):\n",
    "    \"\"\"\n",
    "    returns the predicted color category, given a PIL Image object\n",
    "    \"\"\"\n",
    "    input_tensor = resize(img, (112, 112))\n",
    "    input_tensor = tsfm(input_tensor).to(device)\n",
    "\n",
    "    out = mc_model(input_tensor.unsqueeze(0))\n",
    "    cams = cam_extractor(out.squeeze(0).argmax().item(), out)\n",
    "\n",
    "    scores = cams[0].cpu()\n",
    "    resized_scores = resize(to_pil_image(scores.squeeze(0)), size=(112, 112))\n",
    "    scores_array = np.array(resized_scores)\n",
    "    norm_scores = scores_array/255\n",
    "    seg_mask = np.where(norm_scores > 0.8, 1, 0)\n",
    "    \n",
    "    img_array = np.array(to_pil_image(input_tensor.cpu()))\n",
    "    masked_image = img_array[seg_mask == 1]\n",
    "\n",
    "    kmeans = KMeans(n_clusters=3)\n",
    "    kmeans.fit(masked_image)\n",
    "    colors = kmeans.cluster_centers_\n",
    "\n",
    "    unique, counts = np.unique(kmeans.labels_, return_counts=True)\n",
    "\n",
    "    idx = np.where(counts == counts.max())[0]\n",
    "\n",
    "    # converting extracted rgb value to cie\n",
    "    s = tuple(map(int,kmeans.cluster_centers_[idx][0]))\n",
    "    s = convert_rgb2lab(s)\n",
    "\n",
    "    # knnclassifier using cie values and distance metric\n",
    "    predicted_class = knn_classifier.predict(np.array(s).reshape(1, -1))\n",
    "\n",
    "    return predicted_class[0]"
   ]
  },
  {
   "cell_type": "code",
   "execution_count": 30,
   "metadata": {},
   "outputs": [
    {
     "name": "stderr",
     "output_type": "stream",
     "text": [
      "/home/ubuntu/Envs/trainconv_env_new/lib/python3.7/site-packages/ipykernel_launcher.py:22: ConvergenceWarning: Number of distinct clusters (1) found smaller than n_clusters (3). Possibly due to duplicate points in X.\n"
     ]
    },
    {
     "name": "stdout",
     "output_type": "stream",
     "text": [
      "[Errno 2] No such file or directory: '../data/myntradataset/images/12347.jpg'\n"
     ]
    },
    {
     "name": "stderr",
     "output_type": "stream",
     "text": [
      "/home/ubuntu/Envs/trainconv_env_new/lib/python3.7/site-packages/ipykernel_launcher.py:22: ConvergenceWarning: Number of distinct clusters (1) found smaller than n_clusters (3). Possibly due to duplicate points in X.\n"
     ]
    },
    {
     "name": "stdout",
     "output_type": "stream",
     "text": [
      "[Errno 2] No such file or directory: '../data/myntradataset/images/39403.jpg'\n"
     ]
    },
    {
     "name": "stderr",
     "output_type": "stream",
     "text": [
      "/home/ubuntu/Envs/trainconv_env_new/lib/python3.7/site-packages/ipykernel_launcher.py:22: ConvergenceWarning: Number of distinct clusters (1) found smaller than n_clusters (3). Possibly due to duplicate points in X.\n"
     ]
    }
   ],
   "source": [
    "root_dir = \"../data/myntradataset/images\"\n",
    "true = []\n",
    "predicted = []\n",
    "for i in test.id:\n",
    "    try:\n",
    "        img_path = os.path.join(root_dir, str(i)) + \".jpg\"\n",
    "        img = Image.open(img_path).convert(\"RGB\")\n",
    "\n",
    "    except Exception as e:\n",
    "        print(e)\n",
    "        continue\n",
    "    \n",
    "    predicted_label = find_color(img)\n",
    "    true_label = test[test.id == i][\"baseColour\"]\n",
    "    true.append(true_label)\n",
    "    predicted.append(predicted_label)"
   ]
  },
  {
   "cell_type": "code",
   "execution_count": 31,
   "metadata": {},
   "outputs": [
    {
     "data": {
      "text/plain": [
       "0.2710069835548547"
      ]
     },
     "execution_count": 31,
     "metadata": {},
     "output_type": "execute_result"
    }
   ],
   "source": [
    "accuracy_score(true, predicted)"
   ]
  },
  {
   "cell_type": "markdown",
   "metadata": {},
   "source": [
    "# 2. Using CIE for KMeans clustering\n",
    "\n",
    "Previously, KMeans clustering to obtain the 3 most dominant colors in the product was done in the RGB color space. Now, trying out KMeans in the CIE space."
   ]
  },
  {
   "cell_type": "code",
   "execution_count": 10,
   "metadata": {},
   "outputs": [
    {
     "data": {
      "text/html": [
       "<div>\n",
       "<style scoped>\n",
       "    .dataframe tbody tr th:only-of-type {\n",
       "        vertical-align: middle;\n",
       "    }\n",
       "\n",
       "    .dataframe tbody tr th {\n",
       "        vertical-align: top;\n",
       "    }\n",
       "\n",
       "    .dataframe thead th {\n",
       "        text-align: right;\n",
       "    }\n",
       "</style>\n",
       "<table border=\"1\" class=\"dataframe\">\n",
       "  <thead>\n",
       "    <tr style=\"text-align: right;\">\n",
       "      <th></th>\n",
       "      <th>l1</th>\n",
       "      <th>l2</th>\n",
       "      <th>l3</th>\n",
       "      <th>target_color</th>\n",
       "    </tr>\n",
       "  </thead>\n",
       "  <tbody>\n",
       "    <tr>\n",
       "      <th>0</th>\n",
       "      <td>0.000000</td>\n",
       "      <td>0.000000</td>\n",
       "      <td>0.000000</td>\n",
       "      <td>Black</td>\n",
       "    </tr>\n",
       "    <tr>\n",
       "      <th>1</th>\n",
       "      <td>100.000000</td>\n",
       "      <td>-0.002455</td>\n",
       "      <td>0.004653</td>\n",
       "      <td>White</td>\n",
       "    </tr>\n",
       "    <tr>\n",
       "      <th>2</th>\n",
       "      <td>48.373518</td>\n",
       "      <td>7.713933</td>\n",
       "      <td>-53.080052</td>\n",
       "      <td>Blue</td>\n",
       "    </tr>\n",
       "    <tr>\n",
       "      <th>3</th>\n",
       "      <td>29.866009</td>\n",
       "      <td>10.324204</td>\n",
       "      <td>12.794989</td>\n",
       "      <td>Brown</td>\n",
       "    </tr>\n",
       "    <tr>\n",
       "      <th>4</th>\n",
       "      <td>35.724149</td>\n",
       "      <td>-0.001095</td>\n",
       "      <td>0.002075</td>\n",
       "      <td>Grey</td>\n",
       "    </tr>\n",
       "    <tr>\n",
       "      <th>5</th>\n",
       "      <td>53.240588</td>\n",
       "      <td>80.092308</td>\n",
       "      <td>67.202751</td>\n",
       "      <td>Red</td>\n",
       "    </tr>\n",
       "    <tr>\n",
       "      <th>6</th>\n",
       "      <td>87.735099</td>\n",
       "      <td>-86.183030</td>\n",
       "      <td>83.179703</td>\n",
       "      <td>Green</td>\n",
       "    </tr>\n",
       "    <tr>\n",
       "      <th>7</th>\n",
       "      <td>69.590784</td>\n",
       "      <td>51.670535</td>\n",
       "      <td>0.505159</td>\n",
       "      <td>Pink</td>\n",
       "    </tr>\n",
       "    <tr>\n",
       "      <th>8</th>\n",
       "      <td>50.104911</td>\n",
       "      <td>65.496620</td>\n",
       "      <td>-41.474739</td>\n",
       "      <td>Purple</td>\n",
       "    </tr>\n",
       "    <tr>\n",
       "      <th>9</th>\n",
       "      <td>97.139507</td>\n",
       "      <td>-21.554681</td>\n",
       "      <td>94.478122</td>\n",
       "      <td>Yellow</td>\n",
       "    </tr>\n",
       "    <tr>\n",
       "      <th>10</th>\n",
       "      <td>41.518309</td>\n",
       "      <td>54.702751</td>\n",
       "      <td>2.470456</td>\n",
       "      <td>Maroon</td>\n",
       "    </tr>\n",
       "    <tr>\n",
       "      <th>11</th>\n",
       "      <td>66.858542</td>\n",
       "      <td>43.316851</td>\n",
       "      <td>73.901189</td>\n",
       "      <td>Orange</td>\n",
       "    </tr>\n",
       "  </tbody>\n",
       "</table>\n",
       "</div>"
      ],
      "text/plain": [
       "            l1         l2         l3 target_color\n",
       "0     0.000000   0.000000   0.000000        Black\n",
       "1   100.000000  -0.002455   0.004653        White\n",
       "2    48.373518   7.713933 -53.080052         Blue\n",
       "3    29.866009  10.324204  12.794989        Brown\n",
       "4    35.724149  -0.001095   0.002075         Grey\n",
       "5    53.240588  80.092308  67.202751          Red\n",
       "6    87.735099 -86.183030  83.179703        Green\n",
       "7    69.590784  51.670535   0.505159         Pink\n",
       "8    50.104911  65.496620 -41.474739       Purple\n",
       "9    97.139507 -21.554681  94.478122       Yellow\n",
       "10   41.518309  54.702751   2.470456       Maroon\n",
       "11   66.858542  43.316851  73.901189       Orange"
      ]
     },
     "execution_count": 10,
     "metadata": {},
     "output_type": "execute_result"
    }
   ],
   "source": [
    "# lab color map\n",
    "lab_df = pd.read_csv(\"../data/lab_color_map.csv\")\n",
    "lab_df"
   ]
  },
  {
   "cell_type": "code",
   "execution_count": 11,
   "metadata": {},
   "outputs": [
    {
     "data": {
      "text/plain": [
       "KNeighborsClassifier(algorithm='auto', leaf_size=30,\n",
       "                     metric=<function deltaE_cie76 at 0x7ff7e6fd64d0>,\n",
       "                     metric_params=None, n_jobs=None, n_neighbors=1, p=2,\n",
       "                     weights='uniform')"
      ]
     },
     "execution_count": 11,
     "metadata": {},
     "output_type": "execute_result"
    }
   ],
   "source": [
    "# fitting classifier\n",
    "X = lab_df.drop([\"target_color\"], axis=1)\n",
    "y = lab_df[\"target_color\"]\n",
    "\n",
    "knn_classifier = KNeighborsClassifier(n_neighbors=1,\n",
    "                                    metric=color.deltaE_cie76)\n",
    "\n",
    "knn_classifier.fit(X, y)"
   ]
  },
  {
   "cell_type": "code",
   "execution_count": 12,
   "metadata": {},
   "outputs": [],
   "source": [
    "def find_color(img):\n",
    "    \"\"\"\n",
    "    returns the predicted color category, given a PIL Image object\n",
    "    \"\"\"\n",
    "    input_tensor = resize(img, (112, 112))\n",
    "    input_tensor = tsfm(input_tensor).to(device)\n",
    "\n",
    "    out = mc_model(input_tensor.unsqueeze(0))\n",
    "    cams = cam_extractor(out.squeeze(0).argmax().item(), out)\n",
    "\n",
    "    scores = cams[0].cpu()\n",
    "    resized_scores = resize(to_pil_image(scores.squeeze(0)), size=(112, 112))\n",
    "    scores_array = np.array(resized_scores)\n",
    "    norm_scores = scores_array/255\n",
    "    seg_mask = np.where(norm_scores > 0.8, 1, 0)\n",
    "    \n",
    "    img_array = np.array(to_pil_image(input_tensor.cpu()))\n",
    "    masked_image = img_array[seg_mask == 1]\n",
    "    cie_img = color.rgb2lab(np.expand_dims(masked_image, 0))\n",
    "    \n",
    "    # Finding dominant color from the CIE space\n",
    "    kmeans = KMeans(n_clusters=3, random_state=42)\n",
    "    kmeans.fit(np.squeeze(cie_img))\n",
    "    colors = kmeans.cluster_centers_\n",
    "\n",
    "    unique, counts = np.unique(kmeans.labels_, return_counts=True)\n",
    "\n",
    "    idx = np.where(counts == counts.max())[0]\n",
    "\n",
    "    s = tuple(kmeans.cluster_centers_[idx][0])\n",
    "\n",
    "    predicted_class = knn_classifier.predict(np.array(s).reshape(1, -1))\n",
    "\n",
    "    return predicted_class[0]"
   ]
  },
  {
   "cell_type": "code",
   "execution_count": 16,
   "metadata": {},
   "outputs": [
    {
     "name": "stderr",
     "output_type": "stream",
     "text": [
      "/home/ubuntu/Envs/trainconv_env_new/lib/python3.7/site-packages/ipykernel_launcher.py:22: ConvergenceWarning: Number of distinct clusters (1) found smaller than n_clusters (3). Possibly due to duplicate points in X.\n"
     ]
    },
    {
     "name": "stdout",
     "output_type": "stream",
     "text": [
      "[Errno 2] No such file or directory: '../data/myntradataset/images/12347.jpg'\n"
     ]
    },
    {
     "name": "stderr",
     "output_type": "stream",
     "text": [
      "/home/ubuntu/Envs/trainconv_env_new/lib/python3.7/site-packages/ipykernel_launcher.py:22: ConvergenceWarning: Number of distinct clusters (1) found smaller than n_clusters (3). Possibly due to duplicate points in X.\n"
     ]
    },
    {
     "name": "stdout",
     "output_type": "stream",
     "text": [
      "[Errno 2] No such file or directory: '../data/myntradataset/images/39403.jpg'\n"
     ]
    },
    {
     "name": "stderr",
     "output_type": "stream",
     "text": [
      "/home/ubuntu/Envs/trainconv_env_new/lib/python3.7/site-packages/ipykernel_launcher.py:22: ConvergenceWarning: Number of distinct clusters (1) found smaller than n_clusters (3). Possibly due to duplicate points in X.\n"
     ]
    }
   ],
   "source": [
    "root_dir = \"../data/myntradataset/images\"\n",
    "true = []\n",
    "predicted = []\n",
    "for i in test.id:\n",
    "    try:\n",
    "        img_path = os.path.join(root_dir, str(i)) + \".jpg\"\n",
    "        img = Image.open(img_path).convert(\"RGB\")\n",
    "\n",
    "    except Exception as e:\n",
    "        print(e)\n",
    "        continue\n",
    "    \n",
    "    predicted_label = find_color(img)\n",
    "    true_label = test[test.id == i][\"baseColour\"]\n",
    "    true.append(true_label)\n",
    "    predicted.append(predicted_label)"
   ]
  },
  {
   "cell_type": "code",
   "execution_count": 17,
   "metadata": {},
   "outputs": [
    {
     "data": {
      "text/plain": [
       "0.2716828114440189"
      ]
     },
     "execution_count": 17,
     "metadata": {},
     "output_type": "execute_result"
    }
   ],
   "source": [
    "accuracy_score(true, predicted)"
   ]
  },
  {
   "cell_type": "markdown",
   "metadata": {},
   "source": [
    "# 3. Using extracted CIE values to train the KNNClassifier"
   ]
  },
  {
   "cell_type": "code",
   "execution_count": 67,
   "metadata": {},
   "outputs": [
    {
     "data": {
      "text/plain": [
       "Black     8755\n",
       "White     4984\n",
       "Blue      4426\n",
       "Brown     3145\n",
       "Grey      2467\n",
       "Red       2209\n",
       "Green     1903\n",
       "Pink      1674\n",
       "Purple    1476\n",
       "Yellow     700\n",
       "Maroon     523\n",
       "Orange     477\n",
       "Name: baseColour, dtype: int64"
      ]
     },
     "execution_count": 67,
     "metadata": {},
     "output_type": "execute_result"
    }
   ],
   "source": [
    "cols = [\"Black\", \"White\", \"Blue\", \"Brown\", \"Grey\", \"Red\", \"Green\", \"Pink\", \"Purple\", \"Yellow\", \"Maroon\", \"Orange\"]\n",
    "train_mask = train.baseColour.isin(cols)\n",
    "train_sub = train[train_mask]\n",
    "train_sub.baseColour.value_counts()"
   ]
  },
  {
   "cell_type": "code",
   "execution_count": 72,
   "metadata": {},
   "outputs": [
    {
     "data": {
      "text/html": [
       "<div>\n",
       "<style scoped>\n",
       "    .dataframe tbody tr th:only-of-type {\n",
       "        vertical-align: middle;\n",
       "    }\n",
       "\n",
       "    .dataframe tbody tr th {\n",
       "        vertical-align: top;\n",
       "    }\n",
       "\n",
       "    .dataframe thead th {\n",
       "        text-align: right;\n",
       "    }\n",
       "</style>\n",
       "<table border=\"1\" class=\"dataframe\">\n",
       "  <thead>\n",
       "    <tr style=\"text-align: right;\">\n",
       "      <th></th>\n",
       "      <th>id</th>\n",
       "      <th>baseColour</th>\n",
       "    </tr>\n",
       "  </thead>\n",
       "  <tbody>\n",
       "    <tr>\n",
       "      <th>0</th>\n",
       "      <td>29633</td>\n",
       "      <td>Black</td>\n",
       "    </tr>\n",
       "    <tr>\n",
       "      <th>1</th>\n",
       "      <td>35143</td>\n",
       "      <td>Black</td>\n",
       "    </tr>\n",
       "    <tr>\n",
       "      <th>2</th>\n",
       "      <td>15274</td>\n",
       "      <td>Black</td>\n",
       "    </tr>\n",
       "    <tr>\n",
       "      <th>3</th>\n",
       "      <td>16630</td>\n",
       "      <td>Black</td>\n",
       "    </tr>\n",
       "    <tr>\n",
       "      <th>4</th>\n",
       "      <td>29191</td>\n",
       "      <td>Black</td>\n",
       "    </tr>\n",
       "    <tr>\n",
       "      <th>...</th>\n",
       "      <td>...</td>\n",
       "      <td>...</td>\n",
       "    </tr>\n",
       "    <tr>\n",
       "      <th>1195</th>\n",
       "      <td>4897</td>\n",
       "      <td>Yellow</td>\n",
       "    </tr>\n",
       "    <tr>\n",
       "      <th>1196</th>\n",
       "      <td>35889</td>\n",
       "      <td>Yellow</td>\n",
       "    </tr>\n",
       "    <tr>\n",
       "      <th>1197</th>\n",
       "      <td>12079</td>\n",
       "      <td>Yellow</td>\n",
       "    </tr>\n",
       "    <tr>\n",
       "      <th>1198</th>\n",
       "      <td>25928</td>\n",
       "      <td>Yellow</td>\n",
       "    </tr>\n",
       "    <tr>\n",
       "      <th>1199</th>\n",
       "      <td>24707</td>\n",
       "      <td>Yellow</td>\n",
       "    </tr>\n",
       "  </tbody>\n",
       "</table>\n",
       "<p>1200 rows × 2 columns</p>\n",
       "</div>"
      ],
      "text/plain": [
       "         id baseColour\n",
       "0     29633      Black\n",
       "1     35143      Black\n",
       "2     15274      Black\n",
       "3     16630      Black\n",
       "4     29191      Black\n",
       "...     ...        ...\n",
       "1195   4897     Yellow\n",
       "1196  35889     Yellow\n",
       "1197  12079     Yellow\n",
       "1198  25928     Yellow\n",
       "1199  24707     Yellow\n",
       "\n",
       "[1200 rows x 2 columns]"
      ]
     },
     "execution_count": 72,
     "metadata": {},
     "output_type": "execute_result"
    }
   ],
   "source": [
    "# using 100 random samples from each major color to train the KNNClassifier\n",
    "sample = train_sub.groupby(\"baseColour\")[[\"id\", \"baseColour\"]].apply(lambda x: x.sample(100))\n",
    "sample = sample.reset_index(drop=True)\n",
    "sample"
   ]
  },
  {
   "cell_type": "code",
   "execution_count": 73,
   "metadata": {},
   "outputs": [
    {
     "data": {
      "text/plain": [
       "Yellow    100\n",
       "Maroon    100\n",
       "Red       100\n",
       "Blue      100\n",
       "Grey      100\n",
       "Black     100\n",
       "White     100\n",
       "Orange    100\n",
       "Pink      100\n",
       "Brown     100\n",
       "Purple    100\n",
       "Green     100\n",
       "Name: baseColour, dtype: int64"
      ]
     },
     "execution_count": 73,
     "metadata": {},
     "output_type": "execute_result"
    }
   ],
   "source": [
    "sample.baseColour.value_counts()"
   ]
  },
  {
   "cell_type": "code",
   "execution_count": 82,
   "metadata": {},
   "outputs": [],
   "source": [
    "# extracting cie values from sampled dataset\n",
    "def find_color(img):\n",
    "    \"\"\"\n",
    "    returns the predicted color category, given a PIL Image object\n",
    "    \"\"\"\n",
    "    input_tensor = resize(img, (112, 112))\n",
    "    input_tensor = tsfm(input_tensor).to(device)\n",
    "\n",
    "    out = mc_model(input_tensor.unsqueeze(0))\n",
    "    cams = cam_extractor(out.squeeze(0).argmax().item(), out)\n",
    "\n",
    "    scores = cams[0].cpu()\n",
    "    resized_scores = resize(to_pil_image(scores.squeeze(0)), size=(112, 112))\n",
    "    scores_array = np.array(resized_scores)\n",
    "    norm_scores = scores_array/255\n",
    "    seg_mask = np.where(norm_scores > 0.8, 1, 0)\n",
    "    \n",
    "    img_array = np.array(to_pil_image(input_tensor.cpu()))\n",
    "    masked_image = img_array[seg_mask == 1]\n",
    "\n",
    "    kmeans = KMeans(n_clusters=3)\n",
    "    kmeans.fit(masked_image)\n",
    "    colors = kmeans.cluster_centers_\n",
    "\n",
    "    unique, counts = np.unique(kmeans.labels_, return_counts=True)\n",
    "\n",
    "    idx = np.where(counts == counts.max())[0]\n",
    "\n",
    "    # converting extracted rgb value to cie\n",
    "    s = tuple(map(int,kmeans.cluster_centers_[idx][0]))\n",
    "    s = convert_rgb2lab(s)\n",
    "\n",
    "    return s"
   ]
  },
  {
   "cell_type": "code",
   "execution_count": 83,
   "metadata": {},
   "outputs": [
    {
     "data": {
      "text/html": [
       "<div>\n",
       "<style scoped>\n",
       "    .dataframe tbody tr th:only-of-type {\n",
       "        vertical-align: middle;\n",
       "    }\n",
       "\n",
       "    .dataframe tbody tr th {\n",
       "        vertical-align: top;\n",
       "    }\n",
       "\n",
       "    .dataframe thead th {\n",
       "        text-align: right;\n",
       "    }\n",
       "</style>\n",
       "<table border=\"1\" class=\"dataframe\">\n",
       "  <thead>\n",
       "    <tr style=\"text-align: right;\">\n",
       "      <th></th>\n",
       "      <th>l1</th>\n",
       "      <th>l2</th>\n",
       "      <th>l3</th>\n",
       "      <th>baseColour</th>\n",
       "    </tr>\n",
       "  </thead>\n",
       "  <tbody>\n",
       "  </tbody>\n",
       "</table>\n",
       "</div>"
      ],
      "text/plain": [
       "Empty DataFrame\n",
       "Columns: [l1, l2, l3, baseColour]\n",
       "Index: []"
      ]
     },
     "execution_count": 83,
     "metadata": {},
     "output_type": "execute_result"
    }
   ],
   "source": [
    "# new dataframe with only cie values and target baseColour\n",
    "sample_cie = pd.DataFrame(columns=[\"l1\", \"l2\", \"l3\", \"baseColour\"], dtype=\"object\")\n",
    "sample_cie"
   ]
  },
  {
   "cell_type": "code",
   "execution_count": 86,
   "metadata": {},
   "outputs": [],
   "source": [
    "root_dir = \"../data/myntradataset/images\"\n",
    "for i in sample.id:\n",
    "    try:\n",
    "        img_path = os.path.join(root_dir, str(i)) + \".jpg\"\n",
    "        img = Image.open(img_path).convert(\"RGB\")\n",
    "\n",
    "    except Exception as e:\n",
    "        print(e)\n",
    "        continue\n",
    "        \n",
    "    c = extract_cie(img)\n",
    "    row = list(c) + [sample[sample.id == i].baseColour.values[0]]\n",
    "    \n",
    "    sample_cie.loc[len(sample_cie)] = row"
   ]
  },
  {
   "cell_type": "code",
   "execution_count": 87,
   "metadata": {},
   "outputs": [
    {
     "data": {
      "text/plain": [
       "KNeighborsClassifier(algorithm='auto', leaf_size=30,\n",
       "                     metric=<function deltaE_cie76 at 0x7ff7e6fd64d0>,\n",
       "                     metric_params=None, n_jobs=None, n_neighbors=1, p=2,\n",
       "                     weights='uniform')"
      ]
     },
     "execution_count": 87,
     "metadata": {},
     "output_type": "execute_result"
    }
   ],
   "source": [
    "# Features and target\n",
    "X = sample_cie.drop([\"baseColour\"], axis=1)\n",
    "y = sample_cie[\"baseColour\"]\n",
    "\n",
    "# KNN classifier with custom metric\n",
    "knn_classifier = KNeighborsClassifier(n_neighbors=1,\n",
    "                                    metric=color.deltaE_cie76)\n",
    "\n",
    "# sample_cie the classifier\n",
    "knn_classifier.fit(X, y)"
   ]
  },
  {
   "cell_type": "code",
   "execution_count": 88,
   "metadata": {},
   "outputs": [],
   "source": [
    "# evaluating on test data\n",
    "def find_color(img):\n",
    "    \"\"\"\n",
    "    returns the predicted color category, given a PIL Image object\n",
    "    \"\"\"\n",
    "    input_tensor = resize(img, (112, 112))\n",
    "    input_tensor = tsfm(input_tensor).to(device)\n",
    "\n",
    "    out = mc_model(input_tensor.unsqueeze(0))\n",
    "    cams = cam_extractor(out.squeeze(0).argmax().item(), out)\n",
    "\n",
    "    scores = cams[0].cpu()\n",
    "    resized_scores = resize(to_pil_image(scores.squeeze(0)), size=(112, 112))\n",
    "    scores_array = np.array(resized_scores)\n",
    "    norm_scores = scores_array/255\n",
    "    seg_mask = np.where(norm_scores > 0.8, 1, 0)\n",
    "    \n",
    "    img_array = np.array(to_pil_image(input_tensor.cpu()))\n",
    "    masked_image = img_array[seg_mask == 1]\n",
    "    cie_img = color.rgb2lab(np.expand_dims(masked_image, 0))\n",
    "    \n",
    "    # Finding dominant color from the CIE space\n",
    "    kmeans = KMeans(n_clusters=3, random_state=42)\n",
    "    kmeans.fit(np.squeeze(cie_img))\n",
    "    colors = kmeans.cluster_centers_\n",
    "\n",
    "    unique, counts = np.unique(kmeans.labels_, return_counts=True)\n",
    "\n",
    "    idx = np.where(counts == counts.max())[0]\n",
    "\n",
    "    s = tuple(kmeans.cluster_centers_[idx][0])\n",
    "\n",
    "    predicted_class = knn_classifier.predict(np.array(s).reshape(1, -1))\n",
    "\n",
    "    return predicted_class[0]"
   ]
  },
  {
   "cell_type": "code",
   "execution_count": 92,
   "metadata": {},
   "outputs": [
    {
     "name": "stderr",
     "output_type": "stream",
     "text": [
      "/home/ubuntu/Envs/trainconv_env_new/lib/python3.7/site-packages/ipykernel_launcher.py:24: ConvergenceWarning: Number of distinct clusters (1) found smaller than n_clusters (3). Possibly due to duplicate points in X.\n"
     ]
    },
    {
     "name": "stdout",
     "output_type": "stream",
     "text": [
      "[Errno 2] No such file or directory: '../data/myntradataset/images/12347.jpg'\n"
     ]
    },
    {
     "name": "stderr",
     "output_type": "stream",
     "text": [
      "/home/ubuntu/Envs/trainconv_env_new/lib/python3.7/site-packages/ipykernel_launcher.py:24: ConvergenceWarning: Number of distinct clusters (1) found smaller than n_clusters (3). Possibly due to duplicate points in X.\n"
     ]
    },
    {
     "name": "stdout",
     "output_type": "stream",
     "text": [
      "[Errno 2] No such file or directory: '../data/myntradataset/images/39403.jpg'\n"
     ]
    },
    {
     "name": "stderr",
     "output_type": "stream",
     "text": [
      "/home/ubuntu/Envs/trainconv_env_new/lib/python3.7/site-packages/ipykernel_launcher.py:24: ConvergenceWarning: Number of distinct clusters (1) found smaller than n_clusters (3). Possibly due to duplicate points in X.\n"
     ]
    }
   ],
   "source": [
    "root_dir = \"../data/myntradataset/images\"\n",
    "true = []\n",
    "predicted = []\n",
    "for i in test.id:\n",
    "    try:\n",
    "        img_path = os.path.join(root_dir, str(i)) + \".jpg\"\n",
    "        img = Image.open(img_path).convert(\"RGB\")\n",
    "\n",
    "    except Exception as e:\n",
    "        print(e)\n",
    "        continue\n",
    "    \n",
    "    predicted_label = find_color(img)\n",
    "    true_label = test[test.id == i][\"baseColour\"]\n",
    "    true.append(true_label)\n",
    "    predicted.append(predicted_label)"
   ]
  },
  {
   "cell_type": "code",
   "execution_count": 93,
   "metadata": {},
   "outputs": [
    {
     "data": {
      "text/plain": [
       "0.31989186753773374"
      ]
     },
     "execution_count": 93,
     "metadata": {},
     "output_type": "execute_result"
    }
   ],
   "source": [
    "accuracy_score(true, predicted)"
   ]
  },
  {
   "cell_type": "markdown",
   "metadata": {},
   "source": [
    "# 4. Finding best value of k"
   ]
  },
  {
   "cell_type": "code",
   "execution_count": 136,
   "metadata": {},
   "outputs": [],
   "source": [
    "from sklearn.model_selection import GridSearchCV"
   ]
  },
  {
   "cell_type": "code",
   "execution_count": 137,
   "metadata": {
    "scrolled": true
   },
   "outputs": [
    {
     "data": {
      "text/plain": [
       "[1, 5, 10, 20, 50, 70, 100, 130, 150, 170, 200]"
      ]
     },
     "execution_count": 137,
     "metadata": {},
     "output_type": "execute_result"
    }
   ],
   "source": [
    "krange = [1, 5, 10, 20, 50, 70, 100, 130, 150, 170, 200]\n",
    "krange"
   ]
  },
  {
   "cell_type": "code",
   "execution_count": 138,
   "metadata": {},
   "outputs": [],
   "source": [
    "X = sample_cie.drop([\"baseColour\"], axis=1)\n",
    "y = sample_cie[\"baseColour\"]"
   ]
  },
  {
   "cell_type": "code",
   "execution_count": 139,
   "metadata": {},
   "outputs": [],
   "source": [
    "# evaluating on test data\n",
    "def find_color(img):\n",
    "    \"\"\"\n",
    "    returns the predicted color category, given a PIL Image object\n",
    "    \"\"\"\n",
    "    input_tensor = resize(img, (112, 112))\n",
    "    input_tensor = tsfm(input_tensor).to(device)\n",
    "\n",
    "    out = mc_model(input_tensor.unsqueeze(0))\n",
    "    cams = cam_extractor(out.squeeze(0).argmax().item(), out)\n",
    "\n",
    "    scores = cams[0].cpu()\n",
    "    resized_scores = resize(to_pil_image(scores.squeeze(0)), size=(112, 112))\n",
    "    scores_array = np.array(resized_scores)\n",
    "    norm_scores = scores_array/255\n",
    "    seg_mask = np.where(norm_scores > 0.8, 1, 0)\n",
    "    \n",
    "    img_array = np.array(to_pil_image(input_tensor.cpu()))\n",
    "    masked_image = img_array[seg_mask == 1]\n",
    "    cie_img = color.rgb2lab(np.expand_dims(masked_image, 0))\n",
    "    \n",
    "    # Finding dominant color from the CIE space\n",
    "    kmeans = KMeans(n_clusters=3, random_state=42)\n",
    "    kmeans.fit(np.squeeze(cie_img))\n",
    "    colors = kmeans.cluster_centers_\n",
    "\n",
    "    unique, counts = np.unique(kmeans.labels_, return_counts=True)\n",
    "\n",
    "    idx = np.where(counts == counts.max())[0]\n",
    "\n",
    "    s = tuple(kmeans.cluster_centers_[idx][0])\n",
    "\n",
    "    predicted_class = knn_classifier.predict(np.array(s).reshape(1, -1))\n",
    "\n",
    "    return predicted_class[0]"
   ]
  },
  {
   "cell_type": "code",
   "execution_count": null,
   "metadata": {
    "scrolled": true
   },
   "outputs": [
    {
     "name": "stderr",
     "output_type": "stream",
     "text": [
      "/home/ubuntu/Envs/trainconv_env_new/lib/python3.7/site-packages/ipykernel_launcher.py:24: ConvergenceWarning: Number of distinct clusters (1) found smaller than n_clusters (3). Possibly due to duplicate points in X.\n",
      "/home/ubuntu/Envs/trainconv_env_new/lib/python3.7/site-packages/ipykernel_launcher.py:24: ConvergenceWarning: Number of distinct clusters (1) found smaller than n_clusters (3). Possibly due to duplicate points in X.\n",
      "/home/ubuntu/Envs/trainconv_env_new/lib/python3.7/site-packages/ipykernel_launcher.py:24: ConvergenceWarning: Number of distinct clusters (1) found smaller than n_clusters (3). Possibly due to duplicate points in X.\n"
     ]
    },
    {
     "name": "stdout",
     "output_type": "stream",
     "text": [
      "Accuracy with 1 neighbours: 0.31989186753773374\n"
     ]
    },
    {
     "name": "stderr",
     "output_type": "stream",
     "text": [
      "/home/ubuntu/Envs/trainconv_env_new/lib/python3.7/site-packages/ipykernel_launcher.py:24: ConvergenceWarning: Number of distinct clusters (1) found smaller than n_clusters (3). Possibly due to duplicate points in X.\n",
      "/home/ubuntu/Envs/trainconv_env_new/lib/python3.7/site-packages/ipykernel_launcher.py:24: ConvergenceWarning: Number of distinct clusters (1) found smaller than n_clusters (3). Possibly due to duplicate points in X.\n",
      "/home/ubuntu/Envs/trainconv_env_new/lib/python3.7/site-packages/ipykernel_launcher.py:24: ConvergenceWarning: Number of distinct clusters (1) found smaller than n_clusters (3). Possibly due to duplicate points in X.\n"
     ]
    },
    {
     "name": "stdout",
     "output_type": "stream",
     "text": [
      "Accuracy with 5 neighbours: 0.4000901103852219\n"
     ]
    },
    {
     "name": "stderr",
     "output_type": "stream",
     "text": [
      "/home/ubuntu/Envs/trainconv_env_new/lib/python3.7/site-packages/ipykernel_launcher.py:24: ConvergenceWarning: Number of distinct clusters (1) found smaller than n_clusters (3). Possibly due to duplicate points in X.\n",
      "/home/ubuntu/Envs/trainconv_env_new/lib/python3.7/site-packages/ipykernel_launcher.py:24: ConvergenceWarning: Number of distinct clusters (1) found smaller than n_clusters (3). Possibly due to duplicate points in X.\n",
      "/home/ubuntu/Envs/trainconv_env_new/lib/python3.7/site-packages/ipykernel_launcher.py:24: ConvergenceWarning: Number of distinct clusters (1) found smaller than n_clusters (3). Possibly due to duplicate points in X.\n"
     ]
    },
    {
     "name": "stdout",
     "output_type": "stream",
     "text": [
      "Accuracy with 10 neighbours: 0.4219418788015319\n"
     ]
    },
    {
     "name": "stderr",
     "output_type": "stream",
     "text": [
      "/home/ubuntu/Envs/trainconv_env_new/lib/python3.7/site-packages/ipykernel_launcher.py:24: ConvergenceWarning: Number of distinct clusters (1) found smaller than n_clusters (3). Possibly due to duplicate points in X.\n",
      "/home/ubuntu/Envs/trainconv_env_new/lib/python3.7/site-packages/ipykernel_launcher.py:24: ConvergenceWarning: Number of distinct clusters (1) found smaller than n_clusters (3). Possibly due to duplicate points in X.\n",
      "/home/ubuntu/Envs/trainconv_env_new/lib/python3.7/site-packages/ipykernel_launcher.py:24: ConvergenceWarning: Number of distinct clusters (1) found smaller than n_clusters (3). Possibly due to duplicate points in X.\n"
     ]
    },
    {
     "name": "stdout",
     "output_type": "stream",
     "text": [
      "Accuracy with 20 neighbours: 0.4120297364271232\n"
     ]
    },
    {
     "name": "stderr",
     "output_type": "stream",
     "text": [
      "/home/ubuntu/Envs/trainconv_env_new/lib/python3.7/site-packages/ipykernel_launcher.py:24: ConvergenceWarning: Number of distinct clusters (1) found smaller than n_clusters (3). Possibly due to duplicate points in X.\n"
     ]
    }
   ],
   "source": [
    "import pickle\n",
    "acc = 0\n",
    "path = \"../models/best_knn.pkl\"\n",
    "for k in krange:\n",
    "    knn_classifier = KNeighborsClassifier(n_neighbors=k,\n",
    "                                         metric=color.deltaE_cie76)\n",
    "    knn_classifier.fit(X, y)\n",
    "    \n",
    "    root_dir = \"../data/myntradataset/images\"\n",
    "    true = []\n",
    "    predicted = []\n",
    "    for i in test.id:\n",
    "        try:\n",
    "            img_path = os.path.join(root_dir, str(i)) + \".jpg\"\n",
    "            img = Image.open(img_path).convert(\"RGB\")\n",
    "\n",
    "        except Exception as e:\n",
    "            continue\n",
    "\n",
    "        predicted_label = find_color(img)\n",
    "        true_label = test[test.id == i][\"baseColour\"]\n",
    "        true.append(true_label)\n",
    "        predicted.append(predicted_label)\n",
    "        \n",
    "    curr_acc = accuracy_score(true, predicted)\n",
    "    print(f\"Accuracy with {k} neighbours: {curr_acc}\")\n",
    "    if curr_acc > acc:\n",
    "        pickle.dump(knn_classifier, open(path, 'wb'))\n",
    "        acc = curr_acc"
   ]
  },
  {
   "cell_type": "code",
   "execution_count": 143,
   "metadata": {
    "scrolled": true
   },
   "outputs": [
    {
     "name": "stderr",
     "output_type": "stream",
     "text": [
      "/home/ubuntu/Envs/trainconv_env_new/lib/python3.7/site-packages/ipykernel_launcher.py:24: ConvergenceWarning: Number of distinct clusters (1) found smaller than n_clusters (3). Possibly due to duplicate points in X.\n",
      "/home/ubuntu/Envs/trainconv_env_new/lib/python3.7/site-packages/ipykernel_launcher.py:24: ConvergenceWarning: Number of distinct clusters (1) found smaller than n_clusters (3). Possibly due to duplicate points in X.\n",
      "/home/ubuntu/Envs/trainconv_env_new/lib/python3.7/site-packages/ipykernel_launcher.py:24: ConvergenceWarning: Number of distinct clusters (1) found smaller than n_clusters (3). Possibly due to duplicate points in X.\n"
     ]
    },
    {
     "name": "stdout",
     "output_type": "stream",
     "text": [
      "Accuracy with 50 neighbours: 0.3908537958999775\n"
     ]
    },
    {
     "name": "stderr",
     "output_type": "stream",
     "text": [
      "/home/ubuntu/Envs/trainconv_env_new/lib/python3.7/site-packages/ipykernel_launcher.py:24: ConvergenceWarning: Number of distinct clusters (1) found smaller than n_clusters (3). Possibly due to duplicate points in X.\n",
      "/home/ubuntu/Envs/trainconv_env_new/lib/python3.7/site-packages/ipykernel_launcher.py:24: ConvergenceWarning: Number of distinct clusters (1) found smaller than n_clusters (3). Possibly due to duplicate points in X.\n",
      "/home/ubuntu/Envs/trainconv_env_new/lib/python3.7/site-packages/ipykernel_launcher.py:24: ConvergenceWarning: Number of distinct clusters (1) found smaller than n_clusters (3). Possibly due to duplicate points in X.\n"
     ]
    },
    {
     "name": "stdout",
     "output_type": "stream",
     "text": [
      "Accuracy with 70 neighbours: 0.38161748141473306\n"
     ]
    },
    {
     "name": "stderr",
     "output_type": "stream",
     "text": [
      "/home/ubuntu/Envs/trainconv_env_new/lib/python3.7/site-packages/ipykernel_launcher.py:24: ConvergenceWarning: Number of distinct clusters (1) found smaller than n_clusters (3). Possibly due to duplicate points in X.\n",
      "/home/ubuntu/Envs/trainconv_env_new/lib/python3.7/site-packages/ipykernel_launcher.py:24: ConvergenceWarning: Number of distinct clusters (1) found smaller than n_clusters (3). Possibly due to duplicate points in X.\n",
      "/home/ubuntu/Envs/trainconv_env_new/lib/python3.7/site-packages/ipykernel_launcher.py:24: ConvergenceWarning: Number of distinct clusters (1) found smaller than n_clusters (3). Possibly due to duplicate points in X.\n"
     ]
    },
    {
     "name": "stdout",
     "output_type": "stream",
     "text": [
      "Accuracy with 100 neighbours: 0.3640459562964632\n"
     ]
    },
    {
     "name": "stderr",
     "output_type": "stream",
     "text": [
      "/home/ubuntu/Envs/trainconv_env_new/lib/python3.7/site-packages/ipykernel_launcher.py:24: ConvergenceWarning: Number of distinct clusters (1) found smaller than n_clusters (3). Possibly due to duplicate points in X.\n",
      "/home/ubuntu/Envs/trainconv_env_new/lib/python3.7/site-packages/ipykernel_launcher.py:24: ConvergenceWarning: Number of distinct clusters (1) found smaller than n_clusters (3). Possibly due to duplicate points in X.\n",
      "/home/ubuntu/Envs/trainconv_env_new/lib/python3.7/site-packages/ipykernel_launcher.py:24: ConvergenceWarning: Number of distinct clusters (1) found smaller than n_clusters (3). Possibly due to duplicate points in X.\n"
     ]
    },
    {
     "name": "stdout",
     "output_type": "stream",
     "text": [
      "Accuracy with 130 neighbours: 0.3737328227078171\n"
     ]
    },
    {
     "name": "stderr",
     "output_type": "stream",
     "text": [
      "/home/ubuntu/Envs/trainconv_env_new/lib/python3.7/site-packages/ipykernel_launcher.py:24: ConvergenceWarning: Number of distinct clusters (1) found smaller than n_clusters (3). Possibly due to duplicate points in X.\n",
      "/home/ubuntu/Envs/trainconv_env_new/lib/python3.7/site-packages/ipykernel_launcher.py:24: ConvergenceWarning: Number of distinct clusters (1) found smaller than n_clusters (3). Possibly due to duplicate points in X.\n",
      "/home/ubuntu/Envs/trainconv_env_new/lib/python3.7/site-packages/ipykernel_launcher.py:24: ConvergenceWarning: Number of distinct clusters (1) found smaller than n_clusters (3). Possibly due to duplicate points in X.\n"
     ]
    },
    {
     "name": "stdout",
     "output_type": "stream",
     "text": [
      "Accuracy with 150 neighbours: 0.3710295111511602\n"
     ]
    },
    {
     "name": "stderr",
     "output_type": "stream",
     "text": [
      "/home/ubuntu/Envs/trainconv_env_new/lib/python3.7/site-packages/ipykernel_launcher.py:24: ConvergenceWarning: Number of distinct clusters (1) found smaller than n_clusters (3). Possibly due to duplicate points in X.\n",
      "/home/ubuntu/Envs/trainconv_env_new/lib/python3.7/site-packages/ipykernel_launcher.py:24: ConvergenceWarning: Number of distinct clusters (1) found smaller than n_clusters (3). Possibly due to duplicate points in X.\n",
      "/home/ubuntu/Envs/trainconv_env_new/lib/python3.7/site-packages/ipykernel_launcher.py:24: ConvergenceWarning: Number of distinct clusters (1) found smaller than n_clusters (3). Possibly due to duplicate points in X.\n"
     ]
    },
    {
     "name": "stdout",
     "output_type": "stream",
     "text": [
      "Accuracy with 170 neighbours: 0.36697454381617484\n"
     ]
    },
    {
     "name": "stderr",
     "output_type": "stream",
     "text": [
      "/home/ubuntu/Envs/trainconv_env_new/lib/python3.7/site-packages/ipykernel_launcher.py:24: ConvergenceWarning: Number of distinct clusters (1) found smaller than n_clusters (3). Possibly due to duplicate points in X.\n",
      "/home/ubuntu/Envs/trainconv_env_new/lib/python3.7/site-packages/ipykernel_launcher.py:24: ConvergenceWarning: Number of distinct clusters (1) found smaller than n_clusters (3). Possibly due to duplicate points in X.\n",
      "/home/ubuntu/Envs/trainconv_env_new/lib/python3.7/site-packages/ipykernel_launcher.py:24: ConvergenceWarning: Number of distinct clusters (1) found smaller than n_clusters (3). Possibly due to duplicate points in X.\n"
     ]
    },
    {
     "name": "stdout",
     "output_type": "stream",
     "text": [
      "Accuracy with 200 neighbours: 0.3651723361117369\n"
     ]
    }
   ],
   "source": [
    "krange = [50, 70, 100, 130, 150, 170, 200]\n",
    "path = \"../models/best_knn.pkl\"\n",
    "for k in krange:\n",
    "    knn_classifier = KNeighborsClassifier(n_neighbors=k,\n",
    "                                         metric=color.deltaE_cie76)\n",
    "    knn_classifier.fit(X, y)\n",
    "    \n",
    "    root_dir = \"../data/myntradataset/images\"\n",
    "    true = []\n",
    "    predicted = []\n",
    "    for i in test.id:\n",
    "        try:\n",
    "            img_path = os.path.join(root_dir, str(i)) + \".jpg\"\n",
    "            img = Image.open(img_path).convert(\"RGB\")\n",
    "\n",
    "        except Exception as e:\n",
    "            continue\n",
    "\n",
    "        predicted_label = find_color(img)\n",
    "        true_label = test[test.id == i][\"baseColour\"]\n",
    "        true.append(true_label)\n",
    "        predicted.append(predicted_label)\n",
    "        \n",
    "    curr_acc = accuracy_score(true, predicted)\n",
    "    print(f\"Accuracy with {k} neighbours: {curr_acc}\")\n",
    "    if curr_acc > acc:\n",
    "        pickle.dump(knn_classifier, open(path, 'wb'))\n",
    "        acc = curr_acc"
   ]
  },
  {
   "cell_type": "code",
   "execution_count": 144,
   "metadata": {},
   "outputs": [
    {
     "data": {
      "text/plain": [
       "0.4219418788015319"
      ]
     },
     "execution_count": 144,
     "metadata": {},
     "output_type": "execute_result"
    }
   ],
   "source": [
    "acc"
   ]
  },
  {
   "cell_type": "markdown",
   "metadata": {},
   "source": [
    "## Evaluation on major colors only"
   ]
  },
  {
   "cell_type": "code",
   "execution_count": 148,
   "metadata": {},
   "outputs": [
    {
     "data": {
      "text/plain": [
       "KNeighborsClassifier(algorithm='auto', leaf_size=30,\n",
       "                     metric=<function deltaE_cie76 at 0x7ff7e6fd64d0>,\n",
       "                     metric_params=None, n_jobs=None, n_neighbors=10, p=2,\n",
       "                     weights='uniform')"
      ]
     },
     "execution_count": 148,
     "metadata": {},
     "output_type": "execute_result"
    }
   ],
   "source": [
    "# using the best model\n",
    "knn_classifier = pickle.load(open(\"../models/best_knn.pkl\", \"rb\"))\n",
    "knn_classifier"
   ]
  },
  {
   "cell_type": "code",
   "execution_count": 152,
   "metadata": {},
   "outputs": [
    {
     "data": {
      "text/plain": [
       "Black     973\n",
       "White     554\n",
       "Blue      492\n",
       "Brown     349\n",
       "Grey      274\n",
       "Red       246\n",
       "Green     212\n",
       "Pink      186\n",
       "Purple    164\n",
       "Yellow     78\n",
       "Maroon     58\n",
       "Orange     53\n",
       "Name: baseColour, dtype: int64"
      ]
     },
     "execution_count": 152,
     "metadata": {},
     "output_type": "execute_result"
    }
   ],
   "source": [
    "# using only test data with major colors\n",
    "cols = [\"Black\", \"White\", \"Blue\", \"Brown\", \"Grey\", \"Red\", \"Green\", \"Pink\", \"Purple\", \"Yellow\", \"Maroon\", \"Orange\"]\n",
    "test_mask = test.baseColour.isin(cols)\n",
    "test_sub = test[test_mask]\n",
    "test_sub.baseColour.value_counts()"
   ]
  },
  {
   "cell_type": "code",
   "execution_count": 153,
   "metadata": {},
   "outputs": [
    {
     "name": "stderr",
     "output_type": "stream",
     "text": [
      "/home/ubuntu/Envs/trainconv_env_new/lib/python3.7/site-packages/ipykernel_launcher.py:24: ConvergenceWarning: Number of distinct clusters (1) found smaller than n_clusters (3). Possibly due to duplicate points in X.\n"
     ]
    },
    {
     "name": "stdout",
     "output_type": "stream",
     "text": [
      "[Errno 2] No such file or directory: '../data/myntradataset/images/12347.jpg'\n"
     ]
    },
    {
     "name": "stderr",
     "output_type": "stream",
     "text": [
      "/home/ubuntu/Envs/trainconv_env_new/lib/python3.7/site-packages/ipykernel_launcher.py:24: ConvergenceWarning: Number of distinct clusters (1) found smaller than n_clusters (3). Possibly due to duplicate points in X.\n"
     ]
    },
    {
     "name": "stdout",
     "output_type": "stream",
     "text": [
      "[Errno 2] No such file or directory: '../data/myntradataset/images/39403.jpg'\n"
     ]
    },
    {
     "name": "stderr",
     "output_type": "stream",
     "text": [
      "/home/ubuntu/Envs/trainconv_env_new/lib/python3.7/site-packages/ipykernel_launcher.py:24: ConvergenceWarning: Number of distinct clusters (1) found smaller than n_clusters (3). Possibly due to duplicate points in X.\n"
     ]
    },
    {
     "name": "stdout",
     "output_type": "stream",
     "text": [
      "0.5149848776464119\n"
     ]
    }
   ],
   "source": [
    "# finding accuracy \n",
    "root_dir = \"../data/myntradataset/images\"\n",
    "true = []\n",
    "predicted = []\n",
    "for i in test_sub.id:\n",
    "    try:\n",
    "        img_path = os.path.join(root_dir, str(i)) + \".jpg\"\n",
    "        img = Image.open(img_path).convert(\"RGB\")\n",
    "\n",
    "    except Exception as e:\n",
    "        print(e)\n",
    "        continue\n",
    "    \n",
    "    predicted_label = find_color(img)\n",
    "    true_label = test_sub[test_sub.id == i][\"baseColour\"]\n",
    "    true.append(true_label)\n",
    "    predicted.append(predicted_label)\n",
    "    \n",
    "print(accuracy_score(true, predicted))"
   ]
  },
  {
   "cell_type": "markdown",
   "metadata": {},
   "source": [
    "# 5. Finding k for full training dataset, all colors"
   ]
  },
  {
   "cell_type": "code",
   "execution_count": 156,
   "metadata": {},
   "outputs": [
    {
     "data": {
      "text/html": [
       "<div>\n",
       "<style scoped>\n",
       "    .dataframe tbody tr th:only-of-type {\n",
       "        vertical-align: middle;\n",
       "    }\n",
       "\n",
       "    .dataframe tbody tr th {\n",
       "        vertical-align: top;\n",
       "    }\n",
       "\n",
       "    .dataframe thead th {\n",
       "        text-align: right;\n",
       "    }\n",
       "</style>\n",
       "<table border=\"1\" class=\"dataframe\">\n",
       "  <thead>\n",
       "    <tr style=\"text-align: right;\">\n",
       "      <th></th>\n",
       "      <th>id</th>\n",
       "      <th>masterCategory</th>\n",
       "      <th>subCategory</th>\n",
       "      <th>articleType</th>\n",
       "      <th>baseColour</th>\n",
       "    </tr>\n",
       "  </thead>\n",
       "  <tbody>\n",
       "    <tr>\n",
       "      <th>19396</th>\n",
       "      <td>45629</td>\n",
       "      <td>Apparel</td>\n",
       "      <td>Innerwear</td>\n",
       "      <td>Briefs</td>\n",
       "      <td>Black</td>\n",
       "    </tr>\n",
       "    <tr>\n",
       "      <th>41118</th>\n",
       "      <td>33267</td>\n",
       "      <td>Apparel</td>\n",
       "      <td>Bottomwear</td>\n",
       "      <td>Shorts</td>\n",
       "      <td>Blue</td>\n",
       "    </tr>\n",
       "    <tr>\n",
       "      <th>10913</th>\n",
       "      <td>32849</td>\n",
       "      <td>Footwear</td>\n",
       "      <td>Shoes</td>\n",
       "      <td>Heels</td>\n",
       "      <td>Brown</td>\n",
       "    </tr>\n",
       "    <tr>\n",
       "      <th>24585</th>\n",
       "      <td>33642</td>\n",
       "      <td>Footwear</td>\n",
       "      <td>Flip Flops</td>\n",
       "      <td>Flip Flops</td>\n",
       "      <td>Navy Blue</td>\n",
       "    </tr>\n",
       "    <tr>\n",
       "      <th>22821</th>\n",
       "      <td>30058</td>\n",
       "      <td>Accessories</td>\n",
       "      <td>Watches</td>\n",
       "      <td>Watches</td>\n",
       "      <td>Brown</td>\n",
       "    </tr>\n",
       "    <tr>\n",
       "      <th>...</th>\n",
       "      <td>...</td>\n",
       "      <td>...</td>\n",
       "      <td>...</td>\n",
       "      <td>...</td>\n",
       "      <td>...</td>\n",
       "    </tr>\n",
       "    <tr>\n",
       "      <th>4356</th>\n",
       "      <td>22596</td>\n",
       "      <td>Apparel</td>\n",
       "      <td>Topwear</td>\n",
       "      <td>Tshirts</td>\n",
       "      <td>Red</td>\n",
       "    </tr>\n",
       "    <tr>\n",
       "      <th>15481</th>\n",
       "      <td>38163</td>\n",
       "      <td>Accessories</td>\n",
       "      <td>Eyewear</td>\n",
       "      <td>Sunglasses</td>\n",
       "      <td>White</td>\n",
       "    </tr>\n",
       "    <tr>\n",
       "      <th>2978</th>\n",
       "      <td>47197</td>\n",
       "      <td>Footwear</td>\n",
       "      <td>Sandal</td>\n",
       "      <td>Sandals</td>\n",
       "      <td>Black</td>\n",
       "    </tr>\n",
       "    <tr>\n",
       "      <th>34603</th>\n",
       "      <td>6728</td>\n",
       "      <td>Footwear</td>\n",
       "      <td>Shoes</td>\n",
       "      <td>Sports Shoes</td>\n",
       "      <td>White</td>\n",
       "    </tr>\n",
       "    <tr>\n",
       "      <th>22174</th>\n",
       "      <td>1883</td>\n",
       "      <td>Apparel</td>\n",
       "      <td>Bottomwear</td>\n",
       "      <td>Track Pants</td>\n",
       "      <td>Grey</td>\n",
       "    </tr>\n",
       "  </tbody>\n",
       "</table>\n",
       "<p>39968 rows × 5 columns</p>\n",
       "</div>"
      ],
      "text/plain": [
       "          id masterCategory subCategory   articleType baseColour\n",
       "19396  45629        Apparel   Innerwear        Briefs      Black\n",
       "41118  33267        Apparel  Bottomwear        Shorts       Blue\n",
       "10913  32849       Footwear       Shoes         Heels      Brown\n",
       "24585  33642       Footwear  Flip Flops    Flip Flops  Navy Blue\n",
       "22821  30058    Accessories     Watches       Watches      Brown\n",
       "...      ...            ...         ...           ...        ...\n",
       "4356   22596        Apparel     Topwear       Tshirts        Red\n",
       "15481  38163    Accessories     Eyewear    Sunglasses      White\n",
       "2978   47197       Footwear      Sandal       Sandals      Black\n",
       "34603   6728       Footwear       Shoes  Sports Shoes      White\n",
       "22174   1883        Apparel  Bottomwear   Track Pants       Grey\n",
       "\n",
       "[39968 rows x 5 columns]"
      ]
     },
     "execution_count": 156,
     "metadata": {},
     "output_type": "execute_result"
    }
   ],
   "source": [
    "train"
   ]
  },
  {
   "cell_type": "code",
   "execution_count": 157,
   "metadata": {},
   "outputs": [],
   "source": [
    "# extracting cie values for entire training data\n",
    "def extract_cie(img):\n",
    "    \"\"\"\n",
    "    returns the extracted CIE value, given a PIL Image object\n",
    "    \"\"\"\n",
    "    input_tensor = resize(img, (112, 112))\n",
    "    input_tensor = tsfm(input_tensor).to(device)\n",
    "\n",
    "    out = mc_model(input_tensor.unsqueeze(0))\n",
    "    cams = cam_extractor(out.squeeze(0).argmax().item(), out)\n",
    "\n",
    "    scores = cams[0].cpu()\n",
    "    resized_scores = resize(to_pil_image(scores.squeeze(0)), size=(112, 112))\n",
    "    scores_array = np.array(resized_scores)\n",
    "    norm_scores = scores_array/255\n",
    "    seg_mask = np.where(norm_scores > 0.8, 1, 0)\n",
    "    \n",
    "    img_array = np.array(to_pil_image(input_tensor.cpu()))\n",
    "    masked_image = img_array[seg_mask == 1]\n",
    "    cie_img = color.rgb2lab(np.expand_dims(masked_image, 0))\n",
    "    \n",
    "    kmeans = KMeans(n_clusters=3)\n",
    "    kmeans.fit(np.squeeze(cie_img))\n",
    "    colors = kmeans.cluster_centers_\n",
    "\n",
    "    unique, counts = np.unique(kmeans.labels_, return_counts=True)\n",
    "\n",
    "    idx = np.where(counts == counts.max())[0]\n",
    "\n",
    "    s = tuple(map(int,kmeans.cluster_centers_[idx][0]))\n",
    "    \n",
    "    return s"
   ]
  },
  {
   "cell_type": "code",
   "execution_count": 167,
   "metadata": {},
   "outputs": [
    {
     "data": {
      "text/html": [
       "<div>\n",
       "<style scoped>\n",
       "    .dataframe tbody tr th:only-of-type {\n",
       "        vertical-align: middle;\n",
       "    }\n",
       "\n",
       "    .dataframe tbody tr th {\n",
       "        vertical-align: top;\n",
       "    }\n",
       "\n",
       "    .dataframe thead th {\n",
       "        text-align: right;\n",
       "    }\n",
       "</style>\n",
       "<table border=\"1\" class=\"dataframe\">\n",
       "  <thead>\n",
       "    <tr style=\"text-align: right;\">\n",
       "      <th></th>\n",
       "      <th>id</th>\n",
       "      <th>l1</th>\n",
       "      <th>l2</th>\n",
       "      <th>l3</th>\n",
       "      <th>baseColour</th>\n",
       "    </tr>\n",
       "  </thead>\n",
       "  <tbody>\n",
       "  </tbody>\n",
       "</table>\n",
       "</div>"
      ],
      "text/plain": [
       "Empty DataFrame\n",
       "Columns: [id, l1, l2, l3, baseColour]\n",
       "Index: []"
      ]
     },
     "execution_count": 167,
     "metadata": {},
     "output_type": "execute_result"
    }
   ],
   "source": [
    "cie_df = pd.DataFrame(columns=[\"id\", \"l1\", \"l2\", \"l3\", \"baseColour\"], dtype=\"object\")\n",
    "cie_df"
   ]
  },
  {
   "cell_type": "code",
   "execution_count": 168,
   "metadata": {
    "scrolled": true
   },
   "outputs": [
    {
     "name": "stderr",
     "output_type": "stream",
     "text": [
      "/home/ubuntu/Envs/trainconv_env_new/lib/python3.7/site-packages/ipykernel_launcher.py:23: ConvergenceWarning: Number of distinct clusters (2) found smaller than n_clusters (3). Possibly due to duplicate points in X.\n",
      "/home/ubuntu/Envs/trainconv_env_new/lib/python3.7/site-packages/ipykernel_launcher.py:23: ConvergenceWarning: Number of distinct clusters (2) found smaller than n_clusters (3). Possibly due to duplicate points in X.\n",
      "/home/ubuntu/Envs/trainconv_env_new/lib/python3.7/site-packages/ipykernel_launcher.py:23: ConvergenceWarning: Number of distinct clusters (2) found smaller than n_clusters (3). Possibly due to duplicate points in X.\n",
      "/home/ubuntu/Envs/trainconv_env_new/lib/python3.7/site-packages/ipykernel_launcher.py:23: ConvergenceWarning: Number of distinct clusters (2) found smaller than n_clusters (3). Possibly due to duplicate points in X.\n",
      "/home/ubuntu/Envs/trainconv_env_new/lib/python3.7/site-packages/ipykernel_launcher.py:23: ConvergenceWarning: Number of distinct clusters (1) found smaller than n_clusters (3). Possibly due to duplicate points in X.\n",
      "/home/ubuntu/Envs/trainconv_env_new/lib/python3.7/site-packages/ipykernel_launcher.py:23: ConvergenceWarning: Number of distinct clusters (2) found smaller than n_clusters (3). Possibly due to duplicate points in X.\n",
      "/home/ubuntu/Envs/trainconv_env_new/lib/python3.7/site-packages/ipykernel_launcher.py:23: ConvergenceWarning: Number of distinct clusters (1) found smaller than n_clusters (3). Possibly due to duplicate points in X.\n",
      "/home/ubuntu/Envs/trainconv_env_new/lib/python3.7/site-packages/ipykernel_launcher.py:23: ConvergenceWarning: Number of distinct clusters (2) found smaller than n_clusters (3). Possibly due to duplicate points in X.\n",
      "/home/ubuntu/Envs/trainconv_env_new/lib/python3.7/site-packages/ipykernel_launcher.py:23: ConvergenceWarning: Number of distinct clusters (1) found smaller than n_clusters (3). Possibly due to duplicate points in X.\n",
      "/home/ubuntu/Envs/trainconv_env_new/lib/python3.7/site-packages/ipykernel_launcher.py:23: ConvergenceWarning: Number of distinct clusters (1) found smaller than n_clusters (3). Possibly due to duplicate points in X.\n",
      "/home/ubuntu/Envs/trainconv_env_new/lib/python3.7/site-packages/ipykernel_launcher.py:23: ConvergenceWarning: Number of distinct clusters (1) found smaller than n_clusters (3). Possibly due to duplicate points in X.\n",
      "/home/ubuntu/Envs/trainconv_env_new/lib/python3.7/site-packages/ipykernel_launcher.py:23: ConvergenceWarning: Number of distinct clusters (2) found smaller than n_clusters (3). Possibly due to duplicate points in X.\n"
     ]
    },
    {
     "name": "stdout",
     "output_type": "stream",
     "text": [
      "[Errno 2] No such file or directory: '../data/myntradataset/images/39401.jpg'\n"
     ]
    },
    {
     "name": "stderr",
     "output_type": "stream",
     "text": [
      "/home/ubuntu/Envs/trainconv_env_new/lib/python3.7/site-packages/ipykernel_launcher.py:23: ConvergenceWarning: Number of distinct clusters (1) found smaller than n_clusters (3). Possibly due to duplicate points in X.\n",
      "/home/ubuntu/Envs/trainconv_env_new/lib/python3.7/site-packages/ipykernel_launcher.py:23: ConvergenceWarning: Number of distinct clusters (1) found smaller than n_clusters (3). Possibly due to duplicate points in X.\n",
      "/home/ubuntu/Envs/trainconv_env_new/lib/python3.7/site-packages/ipykernel_launcher.py:23: ConvergenceWarning: Number of distinct clusters (2) found smaller than n_clusters (3). Possibly due to duplicate points in X.\n"
     ]
    },
    {
     "name": "stdout",
     "output_type": "stream",
     "text": [
      "[Errno 2] No such file or directory: '../data/myntradataset/images/39425.jpg'\n"
     ]
    },
    {
     "name": "stderr",
     "output_type": "stream",
     "text": [
      "/home/ubuntu/Envs/trainconv_env_new/lib/python3.7/site-packages/ipykernel_launcher.py:23: ConvergenceWarning: Number of distinct clusters (1) found smaller than n_clusters (3). Possibly due to duplicate points in X.\n",
      "/home/ubuntu/Envs/trainconv_env_new/lib/python3.7/site-packages/ipykernel_launcher.py:23: ConvergenceWarning: Number of distinct clusters (2) found smaller than n_clusters (3). Possibly due to duplicate points in X.\n",
      "/home/ubuntu/Envs/trainconv_env_new/lib/python3.7/site-packages/ipykernel_launcher.py:23: ConvergenceWarning: Number of distinct clusters (2) found smaller than n_clusters (3). Possibly due to duplicate points in X.\n",
      "/home/ubuntu/Envs/trainconv_env_new/lib/python3.7/site-packages/ipykernel_launcher.py:23: ConvergenceWarning: Number of distinct clusters (2) found smaller than n_clusters (3). Possibly due to duplicate points in X.\n",
      "/home/ubuntu/Envs/trainconv_env_new/lib/python3.7/site-packages/ipykernel_launcher.py:23: ConvergenceWarning: Number of distinct clusters (1) found smaller than n_clusters (3). Possibly due to duplicate points in X.\n",
      "/home/ubuntu/Envs/trainconv_env_new/lib/python3.7/site-packages/ipykernel_launcher.py:23: ConvergenceWarning: Number of distinct clusters (2) found smaller than n_clusters (3). Possibly due to duplicate points in X.\n",
      "/home/ubuntu/Envs/trainconv_env_new/lib/python3.7/site-packages/ipykernel_launcher.py:23: ConvergenceWarning: Number of distinct clusters (2) found smaller than n_clusters (3). Possibly due to duplicate points in X.\n"
     ]
    },
    {
     "name": "stdout",
     "output_type": "stream",
     "text": [
      "[Errno 2] No such file or directory: '../data/myntradataset/images/39410.jpg'\n"
     ]
    },
    {
     "name": "stderr",
     "output_type": "stream",
     "text": [
      "/home/ubuntu/Envs/trainconv_env_new/lib/python3.7/site-packages/ipykernel_launcher.py:23: ConvergenceWarning: Number of distinct clusters (2) found smaller than n_clusters (3). Possibly due to duplicate points in X.\n",
      "/home/ubuntu/Envs/trainconv_env_new/lib/python3.7/site-packages/ipykernel_launcher.py:23: ConvergenceWarning: Number of distinct clusters (1) found smaller than n_clusters (3). Possibly due to duplicate points in X.\n",
      "/home/ubuntu/Envs/trainconv_env_new/lib/python3.7/site-packages/ipykernel_launcher.py:23: ConvergenceWarning: Number of distinct clusters (1) found smaller than n_clusters (3). Possibly due to duplicate points in X.\n"
     ]
    }
   ],
   "source": [
    "root_dir = \"../data/myntradataset/images\"\n",
    "for i in train[train.baseColour != \"Multi\"].id:\n",
    "    try:\n",
    "        img_path = os.path.join(root_dir, str(i)) + \".jpg\"\n",
    "        img = Image.open(img_path).convert(\"RGB\")\n",
    "\n",
    "    except Exception as e:\n",
    "        print(e)\n",
    "        continue\n",
    "        \n",
    "    c = extract_cie(img)\n",
    "    row = [i] + list(c) + [train[train.id == i].baseColour.values[0]]\n",
    "    \n",
    "    cie_df.loc[len(cie_df)] = row"
   ]
  },
  {
   "cell_type": "code",
   "execution_count": 169,
   "metadata": {},
   "outputs": [],
   "source": [
    "cie_df.to_csv(\"../data/cie_df.csv\", index=False)"
   ]
  },
  {
   "cell_type": "code",
   "execution_count": 170,
   "metadata": {},
   "outputs": [
    {
     "data": {
      "text/html": [
       "<div>\n",
       "<style scoped>\n",
       "    .dataframe tbody tr th:only-of-type {\n",
       "        vertical-align: middle;\n",
       "    }\n",
       "\n",
       "    .dataframe tbody tr th {\n",
       "        vertical-align: top;\n",
       "    }\n",
       "\n",
       "    .dataframe thead th {\n",
       "        text-align: right;\n",
       "    }\n",
       "</style>\n",
       "<table border=\"1\" class=\"dataframe\">\n",
       "  <thead>\n",
       "    <tr style=\"text-align: right;\">\n",
       "      <th></th>\n",
       "      <th>id</th>\n",
       "      <th>l1</th>\n",
       "      <th>l2</th>\n",
       "      <th>l3</th>\n",
       "      <th>baseColour</th>\n",
       "    </tr>\n",
       "  </thead>\n",
       "  <tbody>\n",
       "    <tr>\n",
       "      <th>0</th>\n",
       "      <td>45629</td>\n",
       "      <td>74</td>\n",
       "      <td>14</td>\n",
       "      <td>24</td>\n",
       "      <td>Black</td>\n",
       "    </tr>\n",
       "    <tr>\n",
       "      <th>1</th>\n",
       "      <td>33267</td>\n",
       "      <td>54</td>\n",
       "      <td>-5</td>\n",
       "      <td>-31</td>\n",
       "      <td>Blue</td>\n",
       "    </tr>\n",
       "    <tr>\n",
       "      <th>2</th>\n",
       "      <td>32849</td>\n",
       "      <td>94</td>\n",
       "      <td>0</td>\n",
       "      <td>0</td>\n",
       "      <td>Brown</td>\n",
       "    </tr>\n",
       "    <tr>\n",
       "      <th>3</th>\n",
       "      <td>33642</td>\n",
       "      <td>16</td>\n",
       "      <td>3</td>\n",
       "      <td>-8</td>\n",
       "      <td>Navy Blue</td>\n",
       "    </tr>\n",
       "    <tr>\n",
       "      <th>4</th>\n",
       "      <td>30058</td>\n",
       "      <td>18</td>\n",
       "      <td>10</td>\n",
       "      <td>13</td>\n",
       "      <td>Brown</td>\n",
       "    </tr>\n",
       "    <tr>\n",
       "      <th>...</th>\n",
       "      <td>...</td>\n",
       "      <td>...</td>\n",
       "      <td>...</td>\n",
       "      <td>...</td>\n",
       "      <td>...</td>\n",
       "    </tr>\n",
       "    <tr>\n",
       "      <th>39605</th>\n",
       "      <td>22596</td>\n",
       "      <td>47</td>\n",
       "      <td>62</td>\n",
       "      <td>39</td>\n",
       "      <td>Red</td>\n",
       "    </tr>\n",
       "    <tr>\n",
       "      <th>39606</th>\n",
       "      <td>38163</td>\n",
       "      <td>97</td>\n",
       "      <td>0</td>\n",
       "      <td>0</td>\n",
       "      <td>White</td>\n",
       "    </tr>\n",
       "    <tr>\n",
       "      <th>39607</th>\n",
       "      <td>47197</td>\n",
       "      <td>18</td>\n",
       "      <td>0</td>\n",
       "      <td>0</td>\n",
       "      <td>Black</td>\n",
       "    </tr>\n",
       "    <tr>\n",
       "      <th>39608</th>\n",
       "      <td>6728</td>\n",
       "      <td>92</td>\n",
       "      <td>0</td>\n",
       "      <td>0</td>\n",
       "      <td>White</td>\n",
       "    </tr>\n",
       "    <tr>\n",
       "      <th>39609</th>\n",
       "      <td>1883</td>\n",
       "      <td>74</td>\n",
       "      <td>0</td>\n",
       "      <td>3</td>\n",
       "      <td>Grey</td>\n",
       "    </tr>\n",
       "  </tbody>\n",
       "</table>\n",
       "<p>39610 rows × 5 columns</p>\n",
       "</div>"
      ],
      "text/plain": [
       "          id  l1  l2   l3 baseColour\n",
       "0      45629  74  14   24      Black\n",
       "1      33267  54  -5  -31       Blue\n",
       "2      32849  94   0    0      Brown\n",
       "3      33642  16   3   -8  Navy Blue\n",
       "4      30058  18  10   13      Brown\n",
       "...      ...  ..  ..  ...        ...\n",
       "39605  22596  47  62   39        Red\n",
       "39606  38163  97   0    0      White\n",
       "39607  47197  18   0    0      Black\n",
       "39608   6728  92   0    0      White\n",
       "39609   1883  74   0    3       Grey\n",
       "\n",
       "[39610 rows x 5 columns]"
      ]
     },
     "execution_count": 170,
     "metadata": {},
     "output_type": "execute_result"
    }
   ],
   "source": [
    "cie_df"
   ]
  },
  {
   "cell_type": "code",
   "execution_count": 172,
   "metadata": {},
   "outputs": [],
   "source": [
    "import warnings\n",
    "warnings.filterwarnings(\"ignore\")"
   ]
  },
  {
   "cell_type": "code",
   "execution_count": 173,
   "metadata": {},
   "outputs": [
    {
     "name": "stdout",
     "output_type": "stream",
     "text": [
      "Accuracy with 1 neighbours: 0.3421941878801532\n",
      "Accuracy with 10 neighbours: 0.46677179544942554\n",
      "Accuracy with 20 neighbours: 0.475107006082451\n",
      "Accuracy with 40 neighbours: 0.4847938724938049\n",
      "Accuracy with 60 neighbours: 0.4845685965307502\n",
      "Accuracy with 80 neighbours: 0.4802883532327101\n",
      "Accuracy with 100 neighbours: 0.47961252534354587\n",
      "Accuracy with 150 neighbours: 0.4748817301193963\n",
      "Accuracy with 200 neighbours: 0.4697003829691372\n",
      "Accuracy with 250 neighbours: 0.47645866186077945\n",
      "Accuracy with 300 neighbours: 0.4733047983780131\n",
      "Accuracy with 350 neighbours: 0.47127731471052037\n",
      "Accuracy with 400 neighbours: 0.4669970714124803\n"
     ]
    }
   ],
   "source": [
    "# search for best value of k on full training data\n",
    "X = cie_df.drop([\"id\", \"baseColour\"], axis=1)\n",
    "y = cie_df[\"baseColour\"]\n",
    "\n",
    "acc = 0\n",
    "krange = [1, 10, 20, 40, 60, 80, 100, 150, 200, 250, 300, 350, 400]\n",
    "path = \"../models/best_knn_full.pkl\"\n",
    "for k in krange:\n",
    "    knn_classifier = KNeighborsClassifier(n_neighbors=k,\n",
    "                                         metric=color.deltaE_cie76)\n",
    "    knn_classifier.fit(X, y)\n",
    "    \n",
    "    root_dir = \"../data/myntradataset/images\"\n",
    "    true = []\n",
    "    predicted = []\n",
    "    for i in test.id:\n",
    "        try:\n",
    "            img_path = os.path.join(root_dir, str(i)) + \".jpg\"\n",
    "            img = Image.open(img_path).convert(\"RGB\")\n",
    "\n",
    "        except Exception as e:\n",
    "            continue\n",
    "\n",
    "        predicted_label = find_color(img)\n",
    "        true_label = test[test.id == i][\"baseColour\"]\n",
    "        true.append(true_label)\n",
    "        predicted.append(predicted_label)\n",
    "        \n",
    "    curr_acc = accuracy_score(true, predicted)\n",
    "    print(f\"Accuracy with {k} neighbours: {curr_acc}\")\n",
    "    if curr_acc > acc:\n",
    "        pickle.dump(knn_classifier, open(path, 'wb'))\n",
    "        acc = curr_acc"
   ]
  },
  {
   "cell_type": "code",
   "execution_count": 174,
   "metadata": {},
   "outputs": [
    {
     "data": {
      "text/plain": [
       "0.4847938724938049"
      ]
     },
     "execution_count": 174,
     "metadata": {},
     "output_type": "execute_result"
    }
   ],
   "source": [
    "acc"
   ]
  },
  {
   "cell_type": "code",
   "execution_count": null,
   "metadata": {},
   "outputs": [],
   "source": []
  }
 ],
 "metadata": {
  "kernelspec": {
   "display_name": "Python 3",
   "language": "python",
   "name": "python3"
  },
  "language_info": {
   "codemirror_mode": {
    "name": "ipython",
    "version": 3
   },
   "file_extension": ".py",
   "mimetype": "text/x-python",
   "name": "python",
   "nbconvert_exporter": "python",
   "pygments_lexer": "ipython3",
   "version": "3.7.15"
  }
 },
 "nbformat": 4,
 "nbformat_minor": 2
}
